{
  "nbformat": 4,
  "nbformat_minor": 0,
  "metadata": {
    "colab": {
      "name": "english-hindi-transliteration.ipynb",
      "provenance": []
    },
    "kernelspec": {
      "display_name": "Python 3",
      "name": "python3"
    },
    "accelerator": "GPU"
  },
  "cells": [
    {
      "cell_type": "code",
      "metadata": {
        "id": "USiZ3decwTLH"
      },
      "source": [
        "import torch\n",
        "import numpy as np\n",
        "import random\n",
        "import torch.optim as optim\n",
        "import torch.nn.functional as F\n",
        "\n",
        "import matplotlib.pyplot as plt\n",
        "import progressbar"
      ],
      "execution_count": 1,
      "outputs": []
    },
    {
      "cell_type": "code",
      "metadata": {
        "id": "2a6KyMJMdUsw",
        "outputId": "ffc27ffb-984f-4693-acb4-f542fa332ddc",
        "colab": {
          "base_uri": "https://localhost:8080/"
        }
      },
      "source": [
        "device_gpu = torch.device(\"cuda:0\" if torch.cuda.is_available() else \"cpu\")\n",
        "print('Using ' + device_gpu.type)"
      ],
      "execution_count": 2,
      "outputs": [
        {
          "output_type": "stream",
          "text": [
            "Using cuda\n"
          ],
          "name": "stdout"
        }
      ]
    },
    {
      "cell_type": "code",
      "metadata": {
        "id": "OSMxZeZ1xYG1",
        "outputId": "4eb81f52-8f90-40f4-ea15-23e6b5b837d3",
        "colab": {
          "base_uri": "https://localhost:8080/"
        }
      },
      "source": [
        "PAD_CHAR = ' '\n",
        "english_alphabets = 'ABCDEFGHIJKLMNOPQRSTUVWXYZ'\n",
        "english_char_to_index_map = {}\n",
        "english_char_to_index_map[PAD_CHAR] = 0\n",
        "for index,char in enumerate(english_alphabets):\n",
        "  english_char_to_index_map[char] = index+1\n",
        "print(english_char_to_index_map)"
      ],
      "execution_count": 3,
      "outputs": [
        {
          "output_type": "stream",
          "text": [
            "{' ': 0, 'A': 1, 'B': 2, 'C': 3, 'D': 4, 'E': 5, 'F': 6, 'G': 7, 'H': 8, 'I': 9, 'J': 10, 'K': 11, 'L': 12, 'M': 13, 'N': 14, 'O': 15, 'P': 16, 'Q': 17, 'R': 18, 'S': 19, 'T': 20, 'U': 21, 'V': 22, 'W': 23, 'X': 24, 'Y': 25, 'Z': 26}\n"
          ],
          "name": "stdout"
        }
      ]
    },
    {
      "cell_type": "code",
      "metadata": {
        "id": "R7k7_RejzAN9",
        "outputId": "28a4c455-da37-46a4-dbb4-45fd9d7cc63a",
        "colab": {
          "base_uri": "https://localhost:8080/"
        }
      },
      "source": [
        "hindi_alphabets = [chr(alpha) for alpha in range(2304, 2432)]\n",
        "hindi_alphabet_size = len(hindi_alphabets)\n",
        "hindi_char_to_index_map = {}\n",
        "hindi_char_to_index_map[PAD_CHAR] = 0\n",
        "for index,ch in enumerate(hindi_alphabets):\n",
        "  hindi_char_to_index_map[ch] = index+1\n",
        "print(hindi_char_to_index_map)"
      ],
      "execution_count": 4,
      "outputs": [
        {
          "output_type": "stream",
          "text": [
            "{' ': 0, 'ऀ': 1, 'ँ': 2, 'ं': 3, 'ः': 4, 'ऄ': 5, 'अ': 6, 'आ': 7, 'इ': 8, 'ई': 9, 'उ': 10, 'ऊ': 11, 'ऋ': 12, 'ऌ': 13, 'ऍ': 14, 'ऎ': 15, 'ए': 16, 'ऐ': 17, 'ऑ': 18, 'ऒ': 19, 'ओ': 20, 'औ': 21, 'क': 22, 'ख': 23, 'ग': 24, 'घ': 25, 'ङ': 26, 'च': 27, 'छ': 28, 'ज': 29, 'झ': 30, 'ञ': 31, 'ट': 32, 'ठ': 33, 'ड': 34, 'ढ': 35, 'ण': 36, 'त': 37, 'थ': 38, 'द': 39, 'ध': 40, 'न': 41, 'ऩ': 42, 'प': 43, 'फ': 44, 'ब': 45, 'भ': 46, 'म': 47, 'य': 48, 'र': 49, 'ऱ': 50, 'ल': 51, 'ळ': 52, 'ऴ': 53, 'व': 54, 'श': 55, 'ष': 56, 'स': 57, 'ह': 58, 'ऺ': 59, 'ऻ': 60, '़': 61, 'ऽ': 62, 'ा': 63, 'ि': 64, 'ी': 65, 'ु': 66, 'ू': 67, 'ृ': 68, 'ॄ': 69, 'ॅ': 70, 'ॆ': 71, 'े': 72, 'ै': 73, 'ॉ': 74, 'ॊ': 75, 'ो': 76, 'ौ': 77, '्': 78, 'ॎ': 79, 'ॏ': 80, 'ॐ': 81, '॑': 82, '॒': 83, '॓': 84, '॔': 85, 'ॕ': 86, 'ॖ': 87, 'ॗ': 88, 'क़': 89, 'ख़': 90, 'ग़': 91, 'ज़': 92, 'ड़': 93, 'ढ़': 94, 'फ़': 95, 'य़': 96, 'ॠ': 97, 'ॡ': 98, 'ॢ': 99, 'ॣ': 100, '।': 101, '॥': 102, '०': 103, '१': 104, '२': 105, '३': 106, '४': 107, '५': 108, '६': 109, '७': 110, '८': 111, '९': 112, '॰': 113, 'ॱ': 114, 'ॲ': 115, 'ॳ': 116, 'ॴ': 117, 'ॵ': 118, 'ॶ': 119, 'ॷ': 120, 'ॸ': 121, 'ॹ': 122, 'ॺ': 123, 'ॻ': 124, 'ॼ': 125, 'ॽ': 126, 'ॾ': 127, 'ॿ': 128}\n"
          ],
          "name": "stdout"
        }
      ]
    },
    {
      "cell_type": "code",
      "metadata": {
        "id": "NaiDxb1r0dNN"
      },
      "source": [
        "def clean_english_input(input):\n",
        "    input = input.replace(',',' ')\n",
        "    input = input.replace('-', ' ')\n",
        "    res = ''\n",
        "    for ch in input:\n",
        "        if (not ch in english_alphabets) and ch!=' ':\n",
        "          continue\n",
        "        res = res + ch\n",
        "    return res.strip().split()\n",
        "    "
      ],
      "execution_count": 5,
      "outputs": []
    },
    {
      "cell_type": "code",
      "metadata": {
        "id": "UiXtqDWO2Cb2"
      },
      "source": [
        "def clean_hindi_input(input):\n",
        "    input = input.replace(',',' ')\n",
        "    input = input.replace('-', ' ')\n",
        "    res = ''\n",
        "    for ch in input:\n",
        "        if (not ch in hindi_alphabets) and ch!=' ':\n",
        "            continue\n",
        "        res = res + ch\n",
        "    return res.strip().split()"
      ],
      "execution_count": 6,
      "outputs": []
    },
    {
      "cell_type": "code",
      "metadata": {
        "id": "_SqKUZZ-JDdh"
      },
      "source": [
        "import xml.etree.ElementTree as ET\n",
        "\n",
        "class TransliterationDataLoader():\n",
        "\n",
        "  def __init__(self,file_name, verbose = False):\n",
        "    \n",
        "    self.verbose = verbose \n",
        "    self.english_names,self.hindi_names = self._read_xml_file(file_name)\n",
        "    self.shuffle_indices = list(range(0,len(self.english_names)))\n",
        "    random.shuffle(self.shuffle_indices)\n",
        "    self.start_index = 0\n",
        "    \n",
        "\n",
        "  def get_size(self):\n",
        "    return len(self.english_names)\n",
        "\n",
        "  def _get_item(self,idx):\n",
        "\n",
        "    return self.english_names[idx],self.hindi_names[idx]\n",
        "  \n",
        "  def get_random_sample(self):\n",
        "\n",
        "    return self._get_item(np.random.randint(0,len(self.english_names)))\n",
        "\n",
        "\n",
        "  def _get_batch_words(self, words, start, end):\n",
        "      return words[start : end]\n",
        "\n",
        "\n",
        "  def get_batch(self,batch_size):\n",
        "\n",
        "      end = self.start_index + batch_size\n",
        "      actual_end = end\n",
        "\n",
        "      if end>self.get_size():\n",
        "          actual_end = self.get_size()\n",
        "      \n",
        "      eng_batch = self._get_batch_words(self.english_names, self.start_index, actual_end)\n",
        "      hindi_batch = self._get_batch_words(self.hindi_names, self.start_index, actual_end)\n",
        "\n",
        "      if end>self.get_size() :\n",
        "          eng_batch.extend(self._get_batch_words(self.english_names, 0, end - actual_end))\n",
        "          hindi_batch.extend(self._get_batch_words(self.hindi_names, 0, end - actual_end))\n",
        "      \n",
        "      if end>= self.get_size():\n",
        "          random.shuffle(self.shuffle_indices)\n",
        "          self.start_index = 0\n",
        "      else:\n",
        "          self.start_index = end\n",
        "\n",
        "      return eng_batch, hindi_batch\n",
        "\n",
        "\n",
        "  def _read_xml_file(self,file_name):\n",
        "\n",
        "      doc_tree = ET.parse(file_name)\n",
        "      doc_root = doc_tree.getroot()\n",
        "      english_names = []\n",
        "      hindi_names = []\n",
        "\n",
        "      for name in doc_root.findall('Name'):\n",
        "          english_name = name.find('SourceName').text \n",
        "          hindi_name = name.find('TargetName').text\n",
        "          english_words = clean_english_input(english_name.upper())\n",
        "          hindi_words = clean_hindi_input(hindi_name)\n",
        "\n",
        "          if(len(english_words)!=len(hindi_words)):\n",
        "              if self.verbose : \n",
        "                  print('Skipping : ' + english_name + ' : ' + hindi_name)\n",
        "                  print(english_words)\n",
        "                  print(hindi_words)\n",
        "\n",
        "              continue\n",
        "          \n",
        "          english_names.extend([word for word in english_words])\n",
        "          hindi_names.extend([word for word in hindi_words])\n",
        "\n",
        "      return english_names,hindi_names"
      ],
      "execution_count": 7,
      "outputs": []
    },
    {
      "cell_type": "code",
      "metadata": {
        "id": "cUpsNmw__uUh"
      },
      "source": [
        "train_data_loader = TransliterationDataLoader('./eng-hindi-train.xml')\n"
      ],
      "execution_count": 8,
      "outputs": []
    },
    {
      "cell_type": "code",
      "metadata": {
        "id": "zHjunEsm_v-0",
        "outputId": "f08d101d-96d4-4da3-d301-5042c78fcf1f",
        "colab": {
          "base_uri": "https://localhost:8080/"
        }
      },
      "source": [
        "train_data_loader.get_random_sample()"
      ],
      "execution_count": 9,
      "outputs": [
        {
          "output_type": "execute_result",
          "data": {
            "text/plain": [
              "('KE', 'के')"
            ]
          },
          "metadata": {
            "tags": []
          },
          "execution_count": 9
        }
      ]
    },
    {
      "cell_type": "code",
      "metadata": {
        "id": "I8Rn73OYUsOB"
      },
      "source": [
        "def name_encode_input(char_map, name):\n",
        "\n",
        "    name_vec = torch.zeros(len(name)+1 , 1 , len(char_map)).to(device_gpu)\n",
        "\n",
        "    for index,ch in enumerate(name) :\n",
        "        pos = char_map[ch]\n",
        "        name_vec[index][0][pos] = 1\n",
        "\n",
        "    name_vec[index+1][0][char_map[PAD_CHAR]] = 1\n",
        "    return name_vec\n",
        "\n",
        "    "
      ],
      "execution_count": 10,
      "outputs": []
    },
    {
      "cell_type": "code",
      "metadata": {
        "id": "XYTiHoab1Loy"
      },
      "source": [
        "def name_encode_output(char_map, name):\n",
        "\n",
        "    name_vec = torch.zeros(len(name)+1 , 1).to(device_gpu)\n",
        "\n",
        "    for index,ch in enumerate(name) :\n",
        "        pos = char_map[ch]\n",
        "        name_vec[index][0] = pos\n",
        "\n",
        "    name_vec[index+1][0] = char_map[PAD_CHAR]\n",
        "    return name_vec"
      ],
      "execution_count": 11,
      "outputs": []
    },
    {
      "cell_type": "code",
      "metadata": {
        "id": "b5dMDG2c9etc"
      },
      "source": [
        "def batch_encode_input(char_map, names) :\n",
        "\n",
        "    max_size = max(list(map(lambda x : len(x), names)))\n",
        "    batch_input_vec = torch.zeros(max_size, len(names), len(char_map)).to(device_gpu)\n",
        "    lengths = []\n",
        "    for name_index, name in enumerate(names) :\n",
        "        for batch_index,ch in enumerate(name) :\n",
        "            pos = char_map[ch]\n",
        "            batch_input_vec[batch_index][name_index][pos] = 1\n",
        "        \n",
        "        lengths.append(len(name))\n",
        "\n",
        "    packed_vec = torch.nn.utils.rnn.pack_padded_sequence(batch_input_vec, lengths, enforce_sorted=False).to(device_gpu)\n",
        "    return packed_vec\n",
        "\n",
        "def batch_encode_output(char_map, names) :\n",
        "\n",
        "    max_size = max(list(map(lambda x : len(x), names)))\n",
        "    batch_output_vec = torch.zeros(max_size, len(names)).type(torch.LongTensor).to(device_gpu)\n",
        "\n",
        "    for name_index, name in enumerate(names) :\n",
        "        for batch_index,ch in enumerate(name) :\n",
        "            pos = char_map[ch]\n",
        "            batch_output_vec[batch_index][name_index] = pos\n",
        "\n",
        "    return batch_output_vec.unsqueeze(2).to(device_gpu)\n"
      ],
      "execution_count": 12,
      "outputs": []
    },
    {
      "cell_type": "code",
      "metadata": {
        "id": "4YenQ1sLBNGr",
        "outputId": "815f99d2-044f-4a7b-a1e6-0c898fbd5c91",
        "colab": {
          "base_uri": "https://localhost:8080/"
        }
      },
      "source": [
        "eng_batch, hindi_batch = train_data_loader.get_batch(8)\n",
        "input_batch = batch_encode_input(english_char_to_index_map, eng_batch)\n",
        "output_batch = batch_encode_output(hindi_char_to_index_map, hindi_batch)\n",
        "print(input_batch.batch_sizes)\n",
        "print(output_batch.shape)"
      ],
      "execution_count": 13,
      "outputs": [
        {
          "output_type": "stream",
          "text": [
            "tensor([8, 8, 8, 8, 6, 5, 3, 3, 2, 2, 2, 2, 1])\n",
            "torch.Size([10, 8, 1])\n"
          ],
          "name": "stdout"
        }
      ]
    },
    {
      "cell_type": "code",
      "metadata": {
        "id": "CqSxfZPz2bvp"
      },
      "source": [
        "import torch.nn as nn\n",
        "\n",
        "class TransliterationEncoderDecoder(nn.Module):\n",
        "\n",
        "    def __init__(self, input_size, hidden_size, output_size, verbose=False):\n",
        "\n",
        "        super(TransliterationEncoderDecoder,self).__init__()\n",
        "        self.output_size = output_size\n",
        "\n",
        "        self.enc_rnn_cell = nn.GRU(input_size, hidden_size)\n",
        "        self.dec_rnn_cell = nn.GRU(output_size, hidden_size)\n",
        "        self.hidden_to_out = nn.Linear(hidden_size, output_size)\n",
        "        self.softmax = nn.LogSoftmax(dim=2)\n",
        "        self.verbose = verbose\n",
        "\n",
        "    def forward(self, input, max_output_size, batch_size = 1,  ground_truth = None, device = 'cpu'):\n",
        "\n",
        "        outputs = []\n",
        "\n",
        "        enc_out, enc_hidden = self.enc_rnn_cell(input)\n",
        "\n",
        "        dec_hidden = enc_hidden\n",
        "        dec_input = torch.zeros(1, batch_size, self.output_size).to(device)\n",
        "\n",
        "        for i in range(max_output_size):\n",
        "            dec_out, dec_hidden = self.dec_rnn_cell(dec_input, dec_hidden)\n",
        "            dec_out = self.hidden_to_out(dec_hidden)\n",
        "            \n",
        "            dec_out = self.softmax(dec_out)\n",
        "            outputs.append(dec_out.squeeze())\n",
        "\n",
        "            max_idx = torch.argmax(dec_out, 2, keepdim=True)[0]\n",
        "            if not ground_truth is None :\n",
        "                max_idx = ground_truth[i]\n",
        "            max_idx = max_idx.type(torch.LongTensor).to(device)\n",
        "\n",
        "            if self.verbose :\n",
        "                print(max_idx.shape)\n",
        "\n",
        "            one_hot = torch.zeros(dec_out.shape).to(device)\n",
        "            y = torch.ones(dec_out.shape).to(device)\n",
        "            one_hot.zero_()\n",
        "            one_hot.scatter_(2, max_idx.unsqueeze(0), y)\n",
        "            decoder_input = one_hot.detach()\n",
        "        \n",
        "        return outputs"
      ],
      "execution_count": 14,
      "outputs": []
    },
    {
      "cell_type": "code",
      "metadata": {
        "id": "1oGRblNeLdyH"
      },
      "source": [
        "def train_net_batch_mode(net, loss_fn, opt, train_data_loader, batch_size, teacher_force = False, device = 'cpu'):\n",
        "\n",
        "    net.train().to(device)\n",
        "    opt.zero_grad()\n",
        "\n",
        "    eng_batch, hindi_batch = train_data_loader.get_batch(batch_size)\n",
        "    input_batch_vec = batch_encode_input(english_char_to_index_map, eng_batch)\n",
        "    output_batch = batch_encode_output(hindi_char_to_index_map, hindi_batch)\n",
        "    \n",
        "    pred = net(input_batch_vec, output_batch.shape[0], batch_size = batch_size,  ground_truth = output_batch if teacher_force else None, device = device )\n",
        "    pred = torch.stack(pred).transpose(0,1).to(device)\n",
        "    pred = torch.transpose(pred, 1,2).to(device)\n",
        "    output_batch = torch.transpose(output_batch, 0,1).to(device)\n",
        "    \n",
        "    loss = loss_fn(pred, output_batch.squeeze(2))\n",
        "    loss.backward()\n",
        "\n",
        "    opt.step()\n",
        "\n",
        "    return loss\n",
        "\n",
        "\n"
      ],
      "execution_count": 15,
      "outputs": []
    },
    {
      "cell_type": "code",
      "metadata": {
        "id": "ub9ALj2VNgV4"
      },
      "source": [
        "def train_driver_batch_mode(net, data_loader, batch_count, batch_size, lr = 0.01, device = 'cpu') :\n",
        "\n",
        "    net.to(device)\n",
        "    loss_fn = nn.NLLLoss()\n",
        "    opt = optim.Adam(net.parameters(), lr = lr)\n",
        "\n",
        "    losses = np.zeros(batch_count + 1)\n",
        "\n",
        "    for i in progressbar.progressbar(range(batch_count)) :\n",
        "        losses[i+1] = (losses[i]*i + train_net_batch_mode(net, loss_fn, opt,  data_loader, batch_size, teacher_force = (i<batch_count), device = device))/(i+1)\n",
        "    \n",
        "    torch.save(net,'enc-dec.pt')\n",
        "    return losses\n"
      ],
      "execution_count": 16,
      "outputs": []
    },
    {
      "cell_type": "code",
      "metadata": {
        "id": "kWFToXt3Otnc"
      },
      "source": [
        "net = TransliterationEncoderDecoder(len(english_char_to_index_map), 512, len(hindi_char_to_index_map),verbose=False)"
      ],
      "execution_count": 42,
      "outputs": []
    },
    {
      "cell_type": "code",
      "metadata": {
        "id": "8xkIkO-SO2PI",
        "outputId": "92747020-03d0-49a7-b01a-7dc0cc5624d2",
        "colab": {
          "base_uri": "https://localhost:8080/"
        }
      },
      "source": [
        "losses = train_driver_batch_mode(net, train_data_loader, 16000, 16, device = device_gpu, lr=0.001)"
      ],
      "execution_count": 45,
      "outputs": [
        {
          "output_type": "stream",
          "text": [
            "100% (16000 of 16000) |##################| Elapsed Time: 0:05:29 Time:  0:05:29\n"
          ],
          "name": "stderr"
        }
      ]
    },
    {
      "cell_type": "code",
      "metadata": {
        "id": "b7FbPpVVP0NS",
        "outputId": "ff384c03-080f-4ca4-d418-6a3470f89a01",
        "colab": {
          "base_uri": "https://localhost:8080/",
          "height": 282
        }
      },
      "source": [
        "plt.plot(losses[1:])"
      ],
      "execution_count": 46,
      "outputs": [
        {
          "output_type": "execute_result",
          "data": {
            "text/plain": [
              "[<matplotlib.lines.Line2D at 0x7f004c497320>]"
            ]
          },
          "metadata": {
            "tags": []
          },
          "execution_count": 46
        },
        {
          "output_type": "display_data",
          "data": {
            "image/png": "[encoded data removed]",
            "text/plain": [
              "<Figure size 432x288 with 1 Axes>"
            ]
          },
          "metadata": {
            "tags": [],
            "needs_background": "light"
          }
        }
      ]
    },
    {
      "cell_type": "code",
      "metadata": {
        "id": "Gy1rdVItPnR6"
      },
      "source": [
        "def infer(net,input,output_size):\n",
        "\n",
        "    net.eval().to(device_gpu)\n",
        "\n",
        "    input_vec = batch_encode_input(english_char_to_index_map,[input])\n",
        "    pred = net.forward(input_vec,output_size, batch_size = 1,  device = device_gpu)\n",
        "    \n",
        "    out = ''\n",
        "\n",
        "    for vec in pred:\n",
        "        max_idx = torch.argmax(vec)\n",
        "        ch = list(hindi_char_to_index_map.keys())[list(hindi_char_to_index_map.values()).index(max_idx)]\n",
        "        out = out + ch\n",
        "    \n",
        "    return out"
      ],
      "execution_count": 21,
      "outputs": []
    },
    {
      "cell_type": "code",
      "metadata": {
        "id": "2vXXb4z3pkUV",
        "outputId": "06394362-1805-417b-a287-6208eccee9f9",
        "colab": {
          "base_uri": "https://localhost:8080/"
        }
      },
      "source": [
        "print(infer(net, 'INDIA', 6))"
      ],
      "execution_count": 57,
      "outputs": [
        {
          "output_type": "stream",
          "text": [
            "इंडिया\n"
          ],
          "name": "stdout"
        }
      ]
    },
    {
      "cell_type": "code",
      "metadata": {
        "id": "VGVJqTJBc6H5"
      },
      "source": [
        "import torch.nn as nn\n",
        "\n",
        "class TransliterationEncoderDecoderWithAttention(nn.Module):\n",
        "\n",
        "    def __init__(self, input_size, hidden_size, output_size, verbose = False):\n",
        "\n",
        "        super(TransliterationEncoderDecoderWithAttention,self).__init__()\n",
        "        self.hidden_size = hidden_size\n",
        "        self.output_size = output_size\n",
        "        self.verbose = verbose\n",
        "\n",
        "        self.enc_rnn_cell = nn.GRU(input_size, hidden_size)\n",
        "        self.dec_rnn_cell = nn.GRU(hidden_size, hidden_size)\n",
        "\n",
        "        self.embedding = nn.Linear(output_size, hidden_size)\n",
        "        self.attention = nn.Linear(2* hidden_size, hidden_size)\n",
        "        self.attn_enc = nn.Linear(hidden_size, 1)\n",
        "        self.attn_applied = nn.Linear(2*hidden_size, hidden_size)\n",
        "\n",
        "        self.h2o = nn.Linear(hidden_size, output_size)\n",
        "        self.softmax_out = nn.LogSoftmax(dim=2)\n",
        "        \n",
        "\n",
        "    def forward(self, input, max_output_size, batch_size = 1,  ground_truth = None, device = 'cpu'):\n",
        "\n",
        "        enc_outputs, enc_hidden = self.enc_rnn_cell(input)\n",
        "\n",
        "        dec_input = torch.zeros(1, batch_size, self.output_size).to(device)\n",
        "        dec_hidden = enc_hidden\n",
        "        outputs = []\n",
        "        enc_outputs, _ = torch.nn.utils.rnn.pad_packed_sequence(enc_outputs)\n",
        "        enc_outputs = torch.transpose(torch.transpose(self.attn_enc(enc_outputs),0,1),1,2).to(device)\n",
        "\n",
        "        for i in range(max_output_size) :\n",
        "            embed = self.embedding(dec_input)\n",
        "            attn = F.softmax(self.attention(torch.cat((embed,dec_hidden),dim = 2)),dim=2)\n",
        "            attn = torch.transpose(attn,0,1).to(device)\n",
        "            mat_prod = torch.bmm(enc_outputs,attn.repeat(1, enc_outputs.shape[2], 1)).to(device)\n",
        "            mat_prod = torch.transpose(mat_prod, 0, 1).to(device)\n",
        "            if self.verbose :\n",
        "                print('embed : ', embed.shape)\n",
        "                print('attn : ', attn.shape)\n",
        "                print('mat_prod : ', mat_prod.shape)\n",
        "\n",
        "            attn_applied = self.attn_applied(torch.cat((mat_prod, embed),dim =2))\n",
        "\n",
        "            dec_input = F.relu(attn_applied)\n",
        "\n",
        "            dec_out, dec_hidden = self.dec_rnn_cell(dec_input, dec_hidden)\n",
        "\n",
        "            dec_out = self.h2o(dec_hidden)\n",
        "            dec_out = self.softmax_out(dec_out)\n",
        "            outputs.append(dec_out.squeeze())\n",
        "\n",
        "            max_idx = torch.argmax(dec_out, 2, keepdim=True)[0]\n",
        "            if not ground_truth is None :\n",
        "                max_idx = ground_truth[i]\n",
        "            max_idx = max_idx.type(torch.LongTensor).to(device)\n",
        "\n",
        "            if self.verbose :\n",
        "                print(max_idx.shape)\n",
        "\n",
        "            one_hot = torch.zeros(dec_out.shape).to(device)\n",
        "            y = torch.ones(dec_out.shape).to(device)\n",
        "            one_hot.zero_()\n",
        "            one_hot.scatter_(2, max_idx.unsqueeze(0), y)\n",
        "            dec_input = one_hot.detach()\n",
        "\n",
        "        return outputs\n"
      ],
      "execution_count": 17,
      "outputs": []
    },
    {
      "cell_type": "code",
      "metadata": {
        "id": "kiL217aR0_KZ",
        "outputId": "2537a124-0c2a-49e7-d168-30a697bae97a",
        "colab": {
          "base_uri": "https://localhost:8080/"
        }
      },
      "source": [
        "atn_net = TransliterationEncoderDecoderWithAttention(len(english_char_to_index_map), 512, len(hindi_char_to_index_map),verbose=False)\n",
        "losses = train_driver_batch_mode(atn_net, train_data_loader, 32000, 16, device = device_gpu, lr = 0.001)"
      ],
      "execution_count": 18,
      "outputs": [
        {
          "output_type": "stream",
          "text": [
            "100% (32000 of 32000) |##################| Elapsed Time: 0:18:43 Time:  0:18:43\n"
          ],
          "name": "stderr"
        }
      ]
    },
    {
      "cell_type": "code",
      "metadata": {
        "id": "fLWCEPGJPl9D",
        "outputId": "c02770b2-1234-4dec-acc0-576193486fdd",
        "colab": {
          "base_uri": "https://localhost:8080/",
          "height": 283
        }
      },
      "source": [
        "plt.plot(losses[1:])"
      ],
      "execution_count": 19,
      "outputs": [
        {
          "output_type": "execute_result",
          "data": {
            "text/plain": [
              "[<matplotlib.lines.Line2D at 0x7fdfca691ac8>]"
            ]
          },
          "metadata": {
            "tags": []
          },
          "execution_count": 19
        },
        {
          "output_type": "display_data",
          "data": {
            "image/png": "[encoded data removed]",
            "text/plain": [
              "<Figure size 432x288 with 1 Axes>"
            ]
          },
          "metadata": {
            "tags": [],
            "needs_background": "light"
          }
        }
      ]
    },
    {
      "cell_type": "code",
      "metadata": {
        "id": "mZwMdMepO-7t",
        "outputId": "78358c9d-ec82-4e2d-c482-b8a4e953d240",
        "colab": {
          "base_uri": "https://localhost:8080/",
          "height": 35
        }
      },
      "source": [
        "infer(atn_net, 'UNIVERSITY', 11)\n"
      ],
      "execution_count": 62,
      "outputs": [
        {
          "output_type": "execute_result",
          "data": {
            "application/vnd.google.colaboratory.intrinsic+json": {
              "type": "string"
            },
            "text/plain": [
              "'यूनिवर्सिटी'"
            ]
          },
          "metadata": {
            "tags": []
          },
          "execution_count": 62
        }
      ]
    },
    {
      "cell_type": "code",
      "metadata": {
        "id": "GyVyKjR5swrO"
      },
      "source": [
        "def infer_sentence(net, sentence) :\n",
        "\n",
        "    words = sentence.split()\n",
        "    res = list(map(lambda x : infer(net, x.strip(), len(x)*2).strip(), words))\n",
        "    return ' '.join(res)"
      ],
      "execution_count": 72,
      "outputs": []
    },
    {
      "cell_type": "code",
      "metadata": {
        "id": "nFSnZRWWziE5",
        "outputId": "9879a245-85ee-437a-8d54-54cd081bc455",
        "colab": {
          "base_uri": "https://localhost:8080/"
        }
      },
      "source": [
        "print(infer_sentence(atn_net, 'ARIZONA STATE UNIVERSITY'))"
      ],
      "execution_count": 79,
      "outputs": [
        {
          "output_type": "stream",
          "text": [
            "एरीज़ोना स्टेट यूनिवर्सिटी\n"
          ],
          "name": "stdout"
        }
      ]
    }
  ]
}